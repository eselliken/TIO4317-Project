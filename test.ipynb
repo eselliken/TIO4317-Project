{
 "cells": [
  {
   "cell_type": "code",
   "execution_count": 94,
   "metadata": {},
   "outputs": [],
   "source": [
    "# Imports\n",
    "\n",
    "import pandas as pd\n",
    "import numpy as np\n",
    "import os"
   ]
  },
  {
   "cell_type": "code",
   "execution_count": 95,
   "metadata": {},
   "outputs": [],
   "source": [
    "# Define the folder path\n",
    "data_path = \"data/\"\n",
    "\n",
    "# Load datasets\n",
    "osebx = pd.read_csv(os.path.join(data_path, \"osebx_prices.csv\"), delimiter=\";\")\n",
    "zero_coupon = pd.read_csv(os.path.join(data_path, \"zero_coupon_rates.csv\"), delimiter=\";\")\n",
    "exchange_rates = pd.read_csv(os.path.join(data_path, \"usd_nok.csv\"), delimiter=\";\")\n",
    "inflation = pd.read_csv(os.path.join(data_path, \"kpi.csv\"), delimiter=\";\")\n"
   ]
  },
  {
   "cell_type": "code",
   "execution_count": 96,
   "metadata": {},
   "outputs": [
    {
     "name": "stdout",
     "output_type": "stream",
     "text": [
      "Date      0\n",
      "Close     0\n",
      "High      0\n",
      "Low       0\n",
      "Open      0\n",
      "Volume    0\n",
      "dtype: int64\n",
      "FREQ           0\n",
      "Frequency      0\n",
      "TENOR          0\n",
      "Tenor          0\n",
      "DECIMALS       0\n",
      "TIME_PERIOD    0\n",
      "OBS_VALUE      0\n",
      "dtype: int64\n",
      "FREQ                    0\n",
      "Frequency               0\n",
      "BASE_CUR                0\n",
      "Base Currency           0\n",
      "QUOTE_CUR               0\n",
      "Quote Currency          0\n",
      "TENOR                   0\n",
      "Tenor                   0\n",
      "DECIMALS                0\n",
      "CALCULATED              0\n",
      "UNIT_MULT               0\n",
      "Unit Multiplier         0\n",
      "COLLECTION              0\n",
      "Collection Indicator    0\n",
      "TIME_PERIOD             0\n",
      "OBS_VALUE               0\n",
      "dtype: int64\n",
      "Date    0\n",
      "kpi     0\n",
      "dtype: int64\n"
     ]
    }
   ],
   "source": [
    "# Check missing values\n",
    "print(osebx.isnull().sum())\n",
    "print(zero_coupon.isnull().sum())\n",
    "print(exchange_rates.isnull().sum())\n",
    "print(inflation.isnull().sum())\n"
   ]
  },
  {
   "attachments": {},
   "cell_type": "markdown",
   "metadata": {},
   "source": [
    "No missing values"
   ]
  },
  {
   "cell_type": "code",
   "execution_count": 97,
   "metadata": {},
   "outputs": [
    {
     "name": "stdout",
     "output_type": "stream",
     "text": [
      "        Date    kpi\n",
      "0 2015-03-01   99,2\n",
      "1 2015-04-01   99,6\n",
      "2 2015-05-01   99,8\n",
      "3 2015-06-01  100,1\n",
      "4 2015-07-01  100,1\n"
     ]
    }
   ],
   "source": [
    "# Convert Date to Datetime format\n",
    "osebx[\"Date\"] = pd.to_datetime(osebx[\"Date\"])\n",
    "zero_coupon[\"TIME_PERIOD\"] = pd.to_datetime(zero_coupon[\"TIME_PERIOD\"])\n",
    "exchange_rates[\"TIME_PERIOD\"] = pd.to_datetime(exchange_rates[\"TIME_PERIOD\"])\n",
    "inflation[\"Date\"] = pd.to_datetime(inflation[\"Date\"], format=\"%YM%m\")\n",
    "\n",
    "print(inflation.head())"
   ]
  },
  {
   "cell_type": "code",
   "execution_count": 98,
   "metadata": {},
   "outputs": [
    {
     "name": "stdout",
     "output_type": "stream",
     "text": [
      "        Date   kpi\n",
      "0 2015-03-01  99,2\n",
      "1 2015-03-02  99,2\n",
      "2 2015-03-03  99,2\n",
      "3 2015-03-04  99,2\n",
      "4 2015-03-05  99,2\n"
     ]
    },
    {
     "name": "stderr",
     "output_type": "stream",
     "text": [
      "/var/folders/p_/8fbq4ggx22xdlng4fj8s59mh0000gn/T/ipykernel_1195/3377985114.py:9: FutureWarning: Series.fillna with 'method' is deprecated and will raise in a future version. Use obj.ffill() or obj.bfill() instead.\n",
      "  inflation_daily[\"kpi\"] = inflation_daily[\"kpi\"].fillna(method=\"ffill\")  # Forward-fill missing values\n"
     ]
    }
   ],
   "source": [
    "# Create a full date range from the first to last available date in your dataset\n",
    "full_date_range = pd.date_range(start=inflation[\"Date\"].min(), end=inflation[\"Date\"].max(), freq=\"D\")\n",
    "\n",
    "# Create a DataFrame with daily dates\n",
    "inflation_daily = pd.DataFrame({\"Date\": full_date_range})\n",
    "\n",
    "# Merge with the original inflation data (left join) and forward-fill missing values\n",
    "inflation_daily = inflation_daily.merge(inflation, on=\"Date\", how=\"left\")\n",
    "inflation_daily[\"kpi\"] = inflation_daily[\"kpi\"].fillna(method=\"ffill\")  # Forward-fill missing values\n",
    "\n",
    "print(inflation_daily.head())  # Check results\n"
   ]
  },
  {
   "cell_type": "code",
   "execution_count": 99,
   "metadata": {},
   "outputs": [
    {
     "name": "stdout",
     "output_type": "stream",
     "text": [
      "        Date       Close        High         Low        Open  Volume  \\\n",
      "0 2015-03-03  616.919983  617.729980  613.419983  613.630005       0   \n",
      "1 2015-03-04  609.250000  616.909973  606.840027  616.890015       0   \n",
      "2 2015-03-05  616.599976  616.849976  609.250000  609.250000       0   \n",
      "3 2015-03-06  618.309998  621.460022  616.460022  616.469971       0   \n",
      "4 2015-03-09  614.260010  618.419983  613.049988  618.299988       0   \n",
      "\n",
      "   log_return FREQ_x Frequency_x TENOR_x  ... TENOR_y  Tenor_y  DECIMALS_y  \\\n",
      "0    0.005967      B    Business     10Y  ...      SP     Spot           4   \n",
      "1   -0.012511      B    Business     10Y  ...      SP     Spot           4   \n",
      "2    0.011992      B    Business     10Y  ...      SP     Spot           4   \n",
      "3    0.002769      B    Business     10Y  ...      SP     Spot           4   \n",
      "4   -0.006572      B    Business     10Y  ...      SP     Spot           4   \n",
      "\n",
      "  CALCULATED UNIT_MULT Unit Multiplier COLLECTION  \\\n",
      "0      False         0           Units          C   \n",
      "1      False         0           Units          C   \n",
      "2      False         0           Units          C   \n",
      "3      False         0           Units          C   \n",
      "4      False         0           Units          C   \n",
      "\n",
      "              Collection Indicator OBS_VALUE_y   kpi  \n",
      "0  ECB concertation time 14:15 CET      7.7091  99,2  \n",
      "1  ECB concertation time 14:15 CET      7.7441  99,2  \n",
      "2  ECB concertation time 14:15 CET      7.7207  99,2  \n",
      "3  ECB concertation time 14:15 CET      7.7917  99,2  \n",
      "4  ECB concertation time 14:15 CET      7.8992  99,2  \n",
      "\n",
      "[5 rows x 29 columns]\n"
     ]
    }
   ],
   "source": [
    "# Compute log returns\n",
    "osebx[\"log_return\"] = np.log(osebx[\"Close\"] / osebx[\"Close\"].shift(1))\n",
    "osebx.dropna(inplace=True)  # Drop the first row where return cannot be calculated\n",
    "\n",
    "# Rename columns to \"Date\"\n",
    "zero_coupon.rename(columns={\"TIME_PERIOD\": \"Date\"}, inplace=True)\n",
    "exchange_rates.rename(columns={\"TIME_PERIOD\": \"Date\"}, inplace=True)\n",
    "\n",
    "# Merge all datasets on 'Date'\n",
    "df = osebx.merge(zero_coupon, on=\"Date\", how=\"inner\")\n",
    "df = df.merge(exchange_rates, on=\"Date\", how=\"inner\")\n",
    "df = df.merge(inflation_daily, on=\"Date\", how=\"inner\") \n",
    "\n",
    "print(df.head())  # Check final dataset"
   ]
  },
  {
   "cell_type": "code",
   "execution_count": 100,
   "metadata": {},
   "outputs": [
    {
     "name": "stdout",
     "output_type": "stream",
     "text": [
      "        Date  log_return  zero_coupon_rate  usd_nok_exchange_rate   kpi\n",
      "0 2015-03-03    0.005967             1.540                 7.7091  99,2\n",
      "1 2015-03-04   -0.012511             1.546                 7.7441  99,2\n",
      "2 2015-03-05    0.011992             1.567                 7.7207  99,2\n",
      "3 2015-03-06    0.002769             1.639                 7.7917  99,2\n",
      "4 2015-03-09   -0.006572             1.676                 7.8992  99,2\n"
     ]
    }
   ],
   "source": [
    "df = df.drop(columns=[\"Close\", \"High\", \"Low\", \"Open\", \"Volume\",\n",
    "       \"FREQ_x\", \"Frequency_x\", \"TENOR_x\", \"Tenor_x\", \"DECIMALS_x\",\n",
    "       \"FREQ_y\", \"Frequency_y\", \"BASE_CUR\", \"Base Currency\",\n",
    "       \"QUOTE_CUR\", \"Quote Currency\", \"TENOR_y\", \"Tenor_y\", \"DECIMALS_y\",\n",
    "       \"CALCULATED\", \"UNIT_MULT\", \"Unit Multiplier\", \"COLLECTION\",\n",
    "       \"Collection Indicator\"])\n",
    "\n",
    "df.rename(columns={\"OBS_VALUE_x\": \"zero_coupon_rate\"}, inplace=True)\n",
    "df.rename(columns={\"OBS_VALUE_y\": \"usd_nok_exchange_rate\"}, inplace=True)\n",
    "\n",
    "print(df.head())"
   ]
  }
 ],
 "metadata": {
  "kernelspec": {
   "display_name": "base",
   "language": "python",
   "name": "python3"
  },
  "language_info": {
   "codemirror_mode": {
    "name": "ipython",
    "version": 3
   },
   "file_extension": ".py",
   "mimetype": "text/x-python",
   "name": "python",
   "nbconvert_exporter": "python",
   "pygments_lexer": "ipython3",
   "version": "3.9.12"
  },
  "vscode": {
   "interpreter": {
    "hash": "159820fe4281184c11d9b0cf5117ec85b255d1c06dfda33d2b36368cb24a50db"
   }
  }
 },
 "nbformat": 4,
 "nbformat_minor": 2
}
