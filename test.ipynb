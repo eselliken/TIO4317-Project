{
 "cells": [
  {
   "cell_type": "code",
   "execution_count": 203,
   "metadata": {},
   "outputs": [],
   "source": [
    "# Imports\n",
    "import pandas as pd\n",
    "import numpy as np\n",
    "import os\n",
    "from matplotlib import pyplot as plt\n",
    "import seaborn as sns\n",
    "from statsmodels.tsa.stattools import adfuller\n",
    "import statsmodels.api as sm\n",
    "from statsmodels.stats.diagnostic import acorr_breusch_godfrey"
   ]
  },
  {
   "cell_type": "markdown",
   "metadata": {},
   "source": [
    "### Data Preprocessing\n",
    "We start by reading the different csv-files that contain the data."
   ]
  },
  {
   "cell_type": "code",
   "execution_count": 204,
   "metadata": {},
   "outputs": [],
   "source": [
    "# Define the folder path\n",
    "data_path = \"data/\"\n",
    "\n",
    "# Load datasets\n",
    "zero_coupon = pd.read_csv(os.path.join(data_path, \"zero_coupon_rates.csv\"), delimiter=\";\")\n",
    "exchange_rates = pd.read_csv(os.path.join(data_path, \"usd_nok.csv\"), delimiter=\";\")\n",
    "inflation = pd.read_csv(os.path.join(data_path, \"kpi.csv\"), delimiter=\";\")\n",
    "osebx = pd.read_csv(os.path.join(data_path, \"osebx_prices.csv\"), delimiter=\";\")\n",
    "\n",
    "# Replace commas with dots in the KPI column and convert to float\n",
    "inflation[\"kpi\"] = inflation[\"kpi\"].str.replace(\",\", \".\").astype(float)\n"
   ]
  },
  {
   "cell_type": "markdown",
   "metadata": {},
   "source": [
    "Then, we check for missing values in the data"
   ]
  },
  {
   "cell_type": "code",
   "execution_count": 205,
   "metadata": {},
   "outputs": [
    {
     "name": "stdout",
     "output_type": "stream",
     "text": [
      "\n",
      "Missing Values in OSEBX Dataset:\n",
      "Date      0\n",
      "Close     0\n",
      "High      0\n",
      "Low       0\n",
      "Open      0\n",
      "Volume    0\n",
      "dtype: int64\n",
      "\n",
      "Missing Values in Zero Coupon Dataset:\n",
      "FREQ           0\n",
      "Frequency      0\n",
      "TENOR          0\n",
      "Tenor          0\n",
      "DECIMALS       0\n",
      "TIME_PERIOD    0\n",
      "OBS_VALUE      0\n",
      "dtype: int64\n",
      "\n",
      "Missing Values in Exchange Rates Dataset:\n",
      "FREQ                    0\n",
      "Frequency               0\n",
      "BASE_CUR                0\n",
      "Base Currency           0\n",
      "QUOTE_CUR               0\n",
      "Quote Currency          0\n",
      "TENOR                   0\n",
      "Tenor                   0\n",
      "DECIMALS                0\n",
      "CALCULATED              0\n",
      "UNIT_MULT               0\n",
      "Unit Multiplier         0\n",
      "COLLECTION              0\n",
      "Collection Indicator    0\n",
      "TIME_PERIOD             0\n",
      "OBS_VALUE               0\n",
      "dtype: int64\n",
      "\n",
      "Missing Values in Inflation Dataset:\n",
      "Date    0\n",
      "kpi     0\n",
      "dtype: int64\n"
     ]
    }
   ],
   "source": [
    "datasets = {\n",
    "    \"OSEBX\": osebx,\n",
    "    \"Zero Coupon\": zero_coupon,\n",
    "    \"Exchange Rates\": exchange_rates,\n",
    "    \"Inflation\": inflation\n",
    "}\n",
    "\n",
    "for name, df in datasets.items():\n",
    "    print(f\"\\nMissing Values in {name} Dataset:\")\n",
    "    print(df.isnull().sum())"
   ]
  },
  {
   "attachments": {},
   "cell_type": "markdown",
   "metadata": {},
   "source": [
    "From the output, we can see that the data does not contain any null values."
   ]
  },
  {
   "cell_type": "markdown",
   "metadata": {},
   "source": [
    "Continue with converting the dates to Datetime format. Also, for inflation, since we are originally only having monthly data, we use forward-fill to get daily inflation data."
   ]
  },
  {
   "cell_type": "code",
   "execution_count": 206,
   "metadata": {},
   "outputs": [],
   "source": [
    "# Convert Date to Datetime format\n",
    "osebx[\"Date\"] = pd.to_datetime(osebx[\"Date\"])\n",
    "zero_coupon[\"TIME_PERIOD\"] = pd.to_datetime(zero_coupon[\"TIME_PERIOD\"])\n",
    "exchange_rates[\"TIME_PERIOD\"] = pd.to_datetime(exchange_rates[\"TIME_PERIOD\"])\n",
    "inflation[\"Date\"] = pd.to_datetime(inflation[\"Date\"], format=\"%YM%m\")\n",
    "\n",
    "# Create a full date range from the first to last available date in your dataset\n",
    "full_date_range = pd.date_range(start=inflation[\"Date\"].min(), end=inflation[\"Date\"].max(), freq=\"D\")\n",
    "\n",
    "# Create a DataFrame with daily dates\n",
    "inflation_daily = pd.DataFrame({\"Date\": full_date_range})\n",
    "\n",
    "# Merge with the original inflation data (left join) and forward-fill missing values\n",
    "inflation_daily = inflation_daily.merge(inflation, on=\"Date\", how=\"left\")\n",
    "inflation_daily[\"kpi\"] = inflation_daily[\"kpi\"].ffill()"
   ]
  },
  {
   "cell_type": "markdown",
   "metadata": {},
   "source": [
    "Compute log returns for OSEBX. Also, rename columns to ensure that all dataframes have a column named \"Date\", so that we can merge all datasets on \"Date\". After having merged all the datasets to one dataframe, we drop all the columns we are not interested in. Consequently, the columns we are left with are \"Date\", \"kpi\", \"zero_coupon_rate\", \"usd_nok_exchange_rate\", and \"log_return\"."
   ]
  },
  {
   "cell_type": "code",
   "execution_count": 207,
   "metadata": {},
   "outputs": [
    {
     "name": "stdout",
     "output_type": "stream",
     "text": [
      "        Date   kpi  zero_coupon_rate  usd_nok_exchange_rate  log_return\n",
      "0 2015-03-03  99.2             1.540                 7.7091    0.005967\n",
      "1 2015-03-04  99.2             1.546                 7.7441   -0.012511\n",
      "2 2015-03-05  99.2             1.567                 7.7207    0.011992\n",
      "3 2015-03-06  99.2             1.639                 7.7917    0.002769\n",
      "4 2015-03-09  99.2             1.676                 7.8992   -0.006572\n"
     ]
    }
   ],
   "source": [
    "# Compute log returns\n",
    "osebx[\"log_return\"] = np.log(osebx[\"Close\"] / osebx[\"Close\"].shift(1))\n",
    "osebx.dropna(inplace=True)  # Drop the first row where return cannot be calculated\n",
    "\n",
    "# Rename columns to \"Date\"\n",
    "zero_coupon.rename(columns={\"TIME_PERIOD\": \"Date\"}, inplace=True)\n",
    "exchange_rates.rename(columns={\"TIME_PERIOD\": \"Date\"}, inplace=True)\n",
    "\n",
    "# Merge all datasets on 'Date'\n",
    "df = inflation_daily.merge(zero_coupon, on=\"Date\", how=\"inner\")\n",
    "df = df.merge(exchange_rates, on=\"Date\", how=\"inner\")\n",
    "df = df.merge(osebx, on=\"Date\", how=\"inner\") \n",
    "\n",
    "df = df.drop(columns=[\"Close\", \"High\", \"Low\", \"Open\", \"Volume\",\n",
    "       \"FREQ_x\", \"Frequency_x\", \"TENOR_x\", \"Tenor_x\", \"DECIMALS_x\",\n",
    "       \"FREQ_y\", \"Frequency_y\", \"BASE_CUR\", \"Base Currency\",\n",
    "       \"QUOTE_CUR\", \"Quote Currency\", \"TENOR_y\", \"Tenor_y\", \"DECIMALS_y\",\n",
    "       \"CALCULATED\", \"UNIT_MULT\", \"Unit Multiplier\", \"COLLECTION\",\n",
    "       \"Collection Indicator\"])\n",
    "\n",
    "df.rename(columns={\"OBS_VALUE_x\": \"zero_coupon_rate\"}, inplace=True)\n",
    "df.rename(columns={\"OBS_VALUE_y\": \"usd_nok_exchange_rate\"}, inplace=True)\n",
    "\n",
    "print(df.head())"
   ]
  },
  {
   "cell_type": "markdown",
   "metadata": {},
   "source": [
    "Check for multicollinearity by computing the correlation matrix."
   ]
  },
  {
   "cell_type": "code",
   "execution_count": 208,
   "metadata": {},
   "outputs": [
    {
     "data": {
      "image/png": "[encoded data removed]",
      "text/plain": [
       "<Figure size 1000x600 with 2 Axes>"
      ]
     },
     "metadata": {},
     "output_type": "display_data"
    }
   ],
   "source": [
    "# Compute the correlation matrix\n",
    "selected_columns = [\"kpi\", \"usd_nok_exchange_rate\", \"zero_coupon_rate\"]\n",
    "corr_matrix = df[selected_columns].corr()\n",
    "\n",
    "# Visualize the correlation matrix as a heatmap\n",
    "plt.figure(figsize=(10, 6))\n",
    "sns.heatmap(corr_matrix, annot=True, cmap=\"coolwarm\", fmt=\".2f\", linewidths=0.5)\n",
    "plt.title(\"Correlation Matrix\")\n",
    "plt.show()"
   ]
  },
  {
   "attachments": {},
   "cell_type": "markdown",
   "metadata": {},
   "source": [
    "We define highly correlated values to have a correlation coefficient >0.9. Because all variables have a correlation coefficient below 0.9, we decide to keep all of the explanatory variables. However, we notice that especially between usd_nok_exchange_rate and kpi and between zero_coupon_rate and kpi the correlation coefficient is close to the boundary. "
   ]
  },
  {
   "cell_type": "markdown",
   "metadata": {},
   "source": [
    "After having checked for correlation, we check for stationarity by applying the Augmented Dickey-Fuller (ADF) test."
   ]
  },
  {
   "cell_type": "code",
   "execution_count": 209,
   "metadata": {},
   "outputs": [
    {
     "name": "stdout",
     "output_type": "stream",
     "text": [
      "========================================\n",
      "ADF Test for Log Return:\n",
      "ADF Statistic: -15.8678\n",
      "p-value: 0.0000\n",
      "Stationary\n",
      "========================================\n",
      "\n",
      "========================================\n",
      "ADF Test for Zero Coupon Rate:\n",
      "ADF Statistic: -0.5795\n",
      "p-value: 0.8755\n",
      "Non-stationary\n",
      "========================================\n",
      "\n",
      "========================================\n",
      "ADF Test for USD/NOK Exchange Rate:\n",
      "ADF Statistic: -1.4185\n",
      "p-value: 0.5734\n",
      "Non-stationary\n",
      "========================================\n",
      "\n",
      "========================================\n",
      "ADF Test for CPI:\n",
      "ADF Statistic: 0.9029\n",
      "p-value: 0.9931\n",
      "Non-stationary\n",
      "========================================\n",
      "\n"
     ]
    }
   ],
   "source": [
    "# Check for stationarity \n",
    "def adf_test(series, var_name):\n",
    "    result = adfuller(series.dropna())  \n",
    "    print(\"=\"*40)  # Separator line\n",
    "    print(f\"ADF Test for {var_name}:\")\n",
    "    print(f\"ADF Statistic: {result[0]:.4f}\")\n",
    "    print(f\"p-value: {result[1]:.4f}\")\n",
    "    print(\"Stationary\" if result[1] < 0.05 else \"Non-stationary\")\n",
    "    print(\"=\"*40 + \"\\n\")  # End separator\n",
    "\n",
    "# Run ADF tests on all relevant variables\n",
    "adf_test(df[\"log_return\"], \"Log Return\")\n",
    "adf_test(df[\"zero_coupon_rate\"], \"Zero Coupon Rate\")  \n",
    "adf_test(df[\"usd_nok_exchange_rate\"], \"USD/NOK Exchange Rate\")  \n",
    "adf_test(df[\"kpi\"], \"CPI\")"
   ]
  },
  {
   "cell_type": "markdown",
   "metadata": {},
   "source": [
    "From the output, we can see that the variables \"zero coupon rate\", \"USD/NOK exchange rate\", and \"CPI\" are non-stationary. To get these variables to be stationary, we apply first differences to these columns."
   ]
  },
  {
   "cell_type": "code",
   "execution_count": 210,
   "metadata": {},
   "outputs": [
    {
     "name": "stdout",
     "output_type": "stream",
     "text": [
      "========================================\n",
      "ADF Test for Differenced Zero Coupon Rate:\n",
      "ADF Statistic: -45.8067\n",
      "p-value: 0.0000\n",
      "Stationary\n",
      "========================================\n",
      "\n",
      "========================================\n",
      "ADF Test for Differenced USD/NOK Exchange Rate:\n",
      "ADF Statistic: -50.8674\n",
      "p-value: 0.0000\n",
      "Stationary\n",
      "========================================\n",
      "\n",
      "========================================\n",
      "ADF Test for Differenced CPI:\n",
      "ADF Statistic: -50.2884\n",
      "p-value: 0.0000\n",
      "Stationary\n",
      "========================================\n",
      "\n"
     ]
    }
   ],
   "source": [
    "# Transform to stationary variables by applying first differences\n",
    "df[\"d_kpi\"] = df[\"kpi\"].diff()\n",
    "df[\"d_zero_coupon_rate\"] = df[\"zero_coupon_rate\"].diff()\n",
    "df[\"d_usd_nok_exchange_rate\"] = df[\"usd_nok_exchange_rate\"].diff()\n",
    "\n",
    "df = df.dropna()\n",
    "\n",
    "adf_test(df[\"d_zero_coupon_rate\"], \"Differenced Zero Coupon Rate\") \n",
    "adf_test(df[\"d_usd_nok_exchange_rate\"], \"Differenced USD/NOK Exchange Rate\") \n",
    "adf_test(df[\"d_kpi\"], \"Differenced CPI\") "
   ]
  },
  {
   "cell_type": "markdown",
   "metadata": {},
   "source": [
    "From the output, we can see that all the variables now are stationary."
   ]
  },
  {
   "cell_type": "code",
   "execution_count": 211,
   "metadata": {},
   "outputs": [
    {
     "name": "stdout",
     "output_type": "stream",
     "text": [
      "        Date   kpi  zero_coupon_rate  usd_nok_exchange_rate  log_return  \\\n",
      "1 2015-03-04  99.2             1.546                 7.7441   -0.012511   \n",
      "2 2015-03-05  99.2             1.567                 7.7207    0.011992   \n",
      "3 2015-03-06  99.2             1.639                 7.7917    0.002769   \n",
      "4 2015-03-09  99.2             1.676                 7.8992   -0.006572   \n",
      "5 2015-03-10  99.2             1.748                 8.0457   -0.017672   \n",
      "\n",
      "   d_kpi  d_zero_coupon_rate  d_usd_nok_exchange_rate  \n",
      "1    0.0               0.006                   0.0350  \n",
      "2    0.0               0.021                  -0.0234  \n",
      "3    0.0               0.072                   0.0710  \n",
      "4    0.0               0.037                   0.1075  \n",
      "5    0.0               0.072                   0.1465  \n"
     ]
    }
   ],
   "source": [
    "print(df.head())"
   ]
  },
  {
   "cell_type": "markdown",
   "metadata": {},
   "source": [
    "#### Split into training and testing data"
   ]
  },
  {
   "cell_type": "code",
   "execution_count": 212,
   "metadata": {},
   "outputs": [],
   "source": [
    "# Define the split percentage (e.g., 80% train, 20% test)\n",
    "split_idx = int(len(df) * 0.8)\n",
    "\n",
    "# Split the data\n",
    "train_df = df.iloc[:split_idx].copy()  # First 80% for training\n",
    "test_df = df.iloc[split_idx:].copy()   # Last 20% for testing\n",
    "\n",
    "# Define training and testing sets\n",
    "X_train, y_train = train_df[['d_kpi', 'd_zero_coupon_rate', 'd_usd_nok_exchange_rate']], train_df['log_return']\n",
    "X_test, y_test = test_df[['d_kpi', 'd_zero_coupon_rate', 'd_usd_nok_exchange_rate']], test_df['log_return']\n"
   ]
  },
  {
   "cell_type": "markdown",
   "metadata": {},
   "source": [
    "### Multiple Linear Regression (MLR)"
   ]
  },
  {
   "cell_type": "code",
   "execution_count": 213,
   "metadata": {},
   "outputs": [
    {
     "name": "stdout",
     "output_type": "stream",
     "text": [
      "                            OLS Regression Results                            \n",
      "==============================================================================\n",
      "Dep. Variable:             log_return   R-squared:                       0.106\n",
      "Model:                            OLS   Adj. R-squared:                  0.105\n",
      "Method:                 Least Squares   F-statistic:                     78.23\n",
      "Date:                Fri, 21 Mar 2025   Prob (F-statistic):           8.11e-48\n",
      "Time:                        10:16:21   Log-Likelihood:                 6182.9\n",
      "No. Observations:                1979   AIC:                        -1.236e+04\n",
      "Df Residuals:                    1975   BIC:                        -1.234e+04\n",
      "Df Model:                           3                                         \n",
      "Covariance Type:            nonrobust                                         \n",
      "===========================================================================================\n",
      "                              coef    std err          t      P>|t|      [0.025      0.975]\n",
      "-------------------------------------------------------------------------------------------\n",
      "const                       0.0004      0.000      1.538      0.124      -0.000       0.001\n",
      "d_kpi                       0.0007      0.002      0.368      0.713      -0.003       0.004\n",
      "d_zero_coupon_rate          0.0270      0.006      4.540      0.000       0.015       0.039\n",
      "d_usd_nok_exchange_rate    -0.0479      0.003    -14.279      0.000      -0.055      -0.041\n",
      "==============================================================================\n",
      "Omnibus:                      245.413   Durbin-Watson:                   2.122\n",
      "Prob(Omnibus):                  0.000   Jarque-Bera (JB):             1646.333\n",
      "Skew:                          -0.368   Prob(JB):                         0.00\n",
      "Kurtosis:                       7.407   Cond. No.                         24.9\n",
      "==============================================================================\n",
      "\n",
      "Notes:\n",
      "[1] Standard Errors assume that the covariance matrix of the errors is correctly specified.\n"
     ]
    }
   ],
   "source": [
    "# Add constant for intercept\n",
    "X_train_ols = sm.add_constant(X_train)\n",
    "\n",
    "# Train OLS model\n",
    "ols_model = sm.OLS(y_train, X_train_ols).fit()\n",
    "\n",
    "# Print summary\n",
    "print(ols_model.summary())"
   ]
  },
  {
   "cell_type": "markdown",
   "metadata": {},
   "source": [
    "Checking for autocorrelation using Breusch-Godfrey test"
   ]
  },
  {
   "cell_type": "code",
   "execution_count": 214,
   "metadata": {},
   "outputs": [
    {
     "name": "stdout",
     "output_type": "stream",
     "text": [
      "LM Statistic: 7.712881041782324\n",
      "P-Value: 0.00548281779755959\n",
      "F-Statistic: 7.723495491881679\n",
      "F-Test P-Value: 0.005502313435006582\n",
      "Autocorrelation detected in residuals (reject H0).\n"
     ]
    }
   ],
   "source": [
    "# Perform the Breusch-Godfrey test (lag=1 or higher)\n",
    "bg_test = acorr_breusch_godfrey(ols_model, nlags=1)  # You can change nlags as needed\n",
    "\n",
    "# Extract results\n",
    "lm_stat = bg_test[0]  # LM test statistic\n",
    "p_value = bg_test[1]  # p-value\n",
    "f_stat = bg_test[2]  # F-statistic\n",
    "f_p_value = bg_test[3]  # F-test p-value\n",
    "\n",
    "# Print results\n",
    "print(f\"LM Statistic: {lm_stat}\")\n",
    "print(f\"P-Value: {p_value}\")\n",
    "print(f\"F-Statistic: {f_stat}\")\n",
    "print(f\"F-Test P-Value: {f_p_value}\")\n",
    "\n",
    "# Interpretation\n",
    "if p_value < 0.05:\n",
    "    print(\"Autocorrelation detected in residuals (reject H0).\")\n",
    "else:\n",
    "    print(\"No significant autocorrelation detected (fail to reject H0).\")\n"
   ]
  },
  {
   "cell_type": "markdown",
   "metadata": {},
   "source": [
    "Try with lagged "
   ]
  },
  {
   "cell_type": "code",
   "execution_count": 215,
   "metadata": {},
   "outputs": [
    {
     "name": "stdout",
     "output_type": "stream",
     "text": [
      "                            OLS Regression Results                            \n",
      "==============================================================================\n",
      "Dep. Variable:             log_return   R-squared:                       0.111\n",
      "Model:                            OLS   Adj. R-squared:                  0.109\n",
      "Method:                 Least Squares   F-statistic:                     41.21\n",
      "Date:                Fri, 21 Mar 2025   Prob (F-statistic):           1.63e-47\n",
      "Time:                        10:16:21   Log-Likelihood:                 6185.8\n",
      "No. Observations:                1978   AIC:                        -1.236e+04\n",
      "Df Residuals:                    1971   BIC:                        -1.232e+04\n",
      "Df Model:                           6                                         \n",
      "Covariance Type:            nonrobust                                         \n",
      "================================================================================================\n",
      "                                   coef    std err          t      P>|t|      [0.025      0.975]\n",
      "------------------------------------------------------------------------------------------------\n",
      "const                            0.0004      0.000      1.503      0.133      -0.000       0.001\n",
      "d_kpi                            0.0003      0.002      0.175      0.861      -0.003       0.004\n",
      "d_zero_coupon_rate               0.0275      0.006      4.591      0.000       0.016       0.039\n",
      "d_usd_nok_exchange_rate         -0.0474      0.003    -14.134      0.000      -0.054      -0.041\n",
      "d_kpi_lag1                       0.0008      0.002      0.412      0.680      -0.003       0.004\n",
      "d_zero_coupon_rate_lag1         -0.0093      0.006     -1.547      0.122      -0.021       0.002\n",
      "d_usd_nok_exchange_rate_lag1     0.0098      0.003      2.917      0.004       0.003       0.016\n",
      "==============================================================================\n",
      "Omnibus:                      254.103   Durbin-Watson:                   2.119\n",
      "Prob(Omnibus):                  0.000   Jarque-Bera (JB):             1647.251\n",
      "Skew:                          -0.409   Prob(JB):                         0.00\n",
      "Kurtosis:                       7.395   Cond. No.                         26.6\n",
      "==============================================================================\n",
      "\n",
      "Notes:\n",
      "[1] Standard Errors assume that the covariance matrix of the errors is correctly specified.\n"
     ]
    }
   ],
   "source": [
    "# Create lagged variables (e.g., 1-period lag)\n",
    "train_df['d_kpi_lag1'] = train_df['d_kpi'].shift(1)\n",
    "train_df['d_zero_coupon_rate_lag1'] = train_df['d_zero_coupon_rate'].shift(1)\n",
    "train_df['d_usd_nok_exchange_rate_lag1'] = train_df['d_usd_nok_exchange_rate'].shift(1)\n",
    "\n",
    "# Drop NaN values **only in the training set** (due to lagging)\n",
    "train_df.dropna(inplace=True)\n",
    "\n",
    "# Define the new independent variables\n",
    "X = train_df[['d_kpi', 'd_zero_coupon_rate', 'd_usd_nok_exchange_rate', \n",
    "        'd_kpi_lag1', 'd_zero_coupon_rate_lag1', 'd_usd_nok_exchange_rate_lag1']]\n",
    "\n",
    "y_train = train_df['log_return']\n",
    "\n",
    "# Add a constant for intercept\n",
    "X = sm.add_constant(X)\n",
    "\n",
    "# Fit the new OLS model\n",
    "model = sm.OLS(y_train, X).fit()\n",
    "\n",
    "# Print summary\n",
    "print(model.summary())\n"
   ]
  },
  {
   "cell_type": "markdown",
   "metadata": {},
   "source": [
    "Check for autocorrelation again"
   ]
  },
  {
   "cell_type": "code",
   "execution_count": 216,
   "metadata": {},
   "outputs": [
    {
     "name": "stdout",
     "output_type": "stream",
     "text": [
      "LM Statistic: 7.247637105636996\n",
      "P-Value: 0.007099437202303797\n",
      "F-Statistic: 7.244870216537838\n",
      "F-Test P-Value: 0.0071705340123729595\n",
      "Autocorrelation detected in residuals (reject H0).\n"
     ]
    }
   ],
   "source": [
    "# Perform the Breusch-Godfrey test (lag=1 or higher)\n",
    "bg_test = acorr_breusch_godfrey(model, nlags=1)  # You can change nlags as needed\n",
    "\n",
    "# Extract results\n",
    "lm_stat = bg_test[0]  # LM test statistic\n",
    "p_value = bg_test[1]  # p-value\n",
    "f_stat = bg_test[2]  # F-statistic\n",
    "f_p_value = bg_test[3]  # F-test p-value\n",
    "\n",
    "# Print results\n",
    "print(f\"LM Statistic: {lm_stat}\")\n",
    "print(f\"P-Value: {p_value}\")\n",
    "print(f\"F-Statistic: {f_stat}\")\n",
    "print(f\"F-Test P-Value: {f_p_value}\")\n",
    "\n",
    "# Interpretation\n",
    "if p_value < 0.05:\n",
    "    print(\"Autocorrelation detected in residuals (reject H0).\")\n",
    "else:\n",
    "    print(\"No significant autocorrelation detected (fail to reject H0).\")\n"
   ]
  },
  {
   "cell_type": "markdown",
   "metadata": {},
   "source": [
    "### ARIMAX"
   ]
  },
  {
   "cell_type": "code",
   "execution_count": 217,
   "metadata": {},
   "outputs": [],
   "source": [
    "# TODO: Elias og Erik"
   ]
  }
 ],
 "metadata": {
  "kernelspec": {
   "display_name": "Python 3",
   "language": "python",
   "name": "python3"
  },
  "language_info": {
   "codemirror_mode": {
    "name": "ipython",
    "version": 3
   },
   "file_extension": ".py",
   "mimetype": "text/x-python",
   "name": "python",
   "nbconvert_exporter": "python",
   "pygments_lexer": "ipython3",
   "version": "3.13.2"
  }
 },
 "nbformat": 4,
 "nbformat_minor": 2
}
