{
 "cells": [
  {
   "cell_type": "code",
   "execution_count": 117,
   "metadata": {},
   "outputs": [],
   "source": [
    "# Imports\n",
    "import pandas as pd\n",
    "import numpy as np\n",
    "import os\n",
    "from matplotlib import pyplot as plt\n",
    "import seaborn as sns\n",
    "from statsmodels.tsa.stattools import adfuller, pacf, acf\n",
    "import statsmodels.api as sm\n",
    "from statsmodels.stats.diagnostic import acorr_breusch_godfrey, het_arch\n",
    "from statsmodels.graphics.tsaplots import plot_pacf\n",
    "\n"
   ]
  },
  {
   "cell_type": "markdown",
   "metadata": {},
   "source": [
    "### Data Preprocessing\n",
    "We start by reading the different csv-files that contain the data."
   ]
  },
  {
   "cell_type": "code",
   "execution_count": 118,
   "metadata": {},
   "outputs": [],
   "source": [
    "# Define the folder path\n",
    "data_path = \"data/\"\n",
    "\n",
    "# Load datasets\n",
    "zero_coupon = pd.read_csv(os.path.join(data_path, \"zero_coupon_rates.csv\"), delimiter=\";\")\n",
    "exchange_rates = pd.read_csv(os.path.join(data_path, \"usd_nok.csv\"), delimiter=\";\")\n",
    "inflation = pd.read_csv(os.path.join(data_path, \"kpi.csv\"), delimiter=\";\")\n",
    "osebx = pd.read_csv(os.path.join(data_path, \"osebx_prices.csv\"), delimiter=\";\")\n",
    "\n",
    "# Replace commas with dots in the KPI column and convert to float\n",
    "inflation[\"kpi\"] = inflation[\"kpi\"].str.replace(\",\", \".\").astype(float)\n"
   ]
  },
  {
   "cell_type": "markdown",
   "metadata": {},
   "source": [
    "Then, we check for missing values in the data"
   ]
  },
  {
   "cell_type": "code",
   "execution_count": 119,
   "metadata": {},
   "outputs": [
    {
     "name": "stdout",
     "output_type": "stream",
     "text": [
      "\n",
      "Missing Values in OSEBX Dataset:\n",
      "Date      0\n",
      "Close     0\n",
      "High      0\n",
      "Low       0\n",
      "Open      0\n",
      "Volume    0\n",
      "dtype: int64\n",
      "\n",
      "Missing Values in Zero Coupon Dataset:\n",
      "FREQ           0\n",
      "Frequency      0\n",
      "TENOR          0\n",
      "Tenor          0\n",
      "DECIMALS       0\n",
      "TIME_PERIOD    0\n",
      "OBS_VALUE      0\n",
      "dtype: int64\n",
      "\n",
      "Missing Values in Exchange Rates Dataset:\n",
      "FREQ                    0\n",
      "Frequency               0\n",
      "BASE_CUR                0\n",
      "Base Currency           0\n",
      "QUOTE_CUR               0\n",
      "Quote Currency          0\n",
      "TENOR                   0\n",
      "Tenor                   0\n",
      "DECIMALS                0\n",
      "CALCULATED              0\n",
      "UNIT_MULT               0\n",
      "Unit Multiplier         0\n",
      "COLLECTION              0\n",
      "Collection Indicator    0\n",
      "TIME_PERIOD             0\n",
      "OBS_VALUE               0\n",
      "dtype: int64\n",
      "\n",
      "Missing Values in Inflation Dataset:\n",
      "Date    0\n",
      "kpi     0\n",
      "dtype: int64\n"
     ]
    }
   ],
   "source": [
    "datasets = {\n",
    "    \"OSEBX\": osebx,\n",
    "    \"Zero Coupon\": zero_coupon,\n",
    "    \"Exchange Rates\": exchange_rates,\n",
    "    \"Inflation\": inflation\n",
    "}\n",
    "\n",
    "for name, df in datasets.items():\n",
    "    print(f\"\\nMissing Values in {name} Dataset:\")\n",
    "    print(df.isnull().sum())"
   ]
  },
  {
   "attachments": {},
   "cell_type": "markdown",
   "metadata": {},
   "source": [
    "From the output, we can see that the data does not contain any null values."
   ]
  },
  {
   "cell_type": "markdown",
   "metadata": {},
   "source": [
    "Continue with converting the dates to Datetime format. Also, for inflation, since we are originally only having monthly data, we use forward-fill to get daily inflation data."
   ]
  },
  {
   "cell_type": "code",
   "execution_count": 120,
   "metadata": {},
   "outputs": [],
   "source": [
    "# Convert Date to Datetime format\n",
    "osebx[\"Date\"] = pd.to_datetime(osebx[\"Date\"])\n",
    "zero_coupon[\"TIME_PERIOD\"] = pd.to_datetime(zero_coupon[\"TIME_PERIOD\"])\n",
    "exchange_rates[\"TIME_PERIOD\"] = pd.to_datetime(exchange_rates[\"TIME_PERIOD\"])\n",
    "inflation[\"Date\"] = pd.to_datetime(inflation[\"Date\"], format=\"%YM%m\")\n",
    "\n",
    "# Create a full date range from the first to last available date in your dataset\n",
    "full_date_range = pd.date_range(start=inflation[\"Date\"].min(), end=inflation[\"Date\"].max(), freq=\"D\")\n",
    "\n",
    "# Create a DataFrame with daily dates\n",
    "inflation_daily = pd.DataFrame({\"Date\": full_date_range})\n",
    "\n",
    "# Merge with the original inflation data (left join) and forward-fill missing values\n",
    "inflation_daily = inflation_daily.merge(inflation, on=\"Date\", how=\"left\")\n",
    "inflation_daily[\"kpi\"] = inflation_daily[\"kpi\"].interpolate(method=\"linear\")"
   ]
  },
  {
   "cell_type": "markdown",
   "metadata": {},
   "source": [
    "Compute log returns for OSEBX. Also, rename columns to ensure that all dataframes have a column named \"Date\", so that we can merge all datasets on \"Date\". After having merged all the datasets to one dataframe, we drop all the columns we are not interested in. Consequently, the columns we are left with are \"Date\", \"kpi\", \"zero_coupon_rate\", \"usd_nok_exchange_rate\", and \"log_return\"."
   ]
  },
  {
   "cell_type": "code",
   "execution_count": 121,
   "metadata": {},
   "outputs": [
    {
     "name": "stdout",
     "output_type": "stream",
     "text": [
      "        Date        kpi  zero_coupon_rate  usd_nok_exchange_rate  log_return\n",
      "0 2015-03-03  99.225806             1.540                 7.7091    0.005967\n",
      "1 2015-03-04  99.238710             1.546                 7.7441   -0.012511\n",
      "2 2015-03-05  99.251613             1.567                 7.7207    0.011992\n",
      "3 2015-03-06  99.264516             1.639                 7.7917    0.002769\n",
      "4 2015-03-09  99.303226             1.676                 7.8992   -0.006572\n"
     ]
    }
   ],
   "source": [
    "# Compute log returns\n",
    "osebx[\"log_return\"] = np.log(osebx[\"Close\"] / osebx[\"Close\"].shift(1))\n",
    "osebx.dropna(inplace=True)  # Drop the first row where return cannot be calculated\n",
    "\n",
    "# Rename columns to \"Date\"\n",
    "zero_coupon.rename(columns={\"TIME_PERIOD\": \"Date\"}, inplace=True)\n",
    "exchange_rates.rename(columns={\"TIME_PERIOD\": \"Date\"}, inplace=True)\n",
    "\n",
    "# Merge all datasets on 'Date'\n",
    "df = inflation_daily.merge(zero_coupon, on=\"Date\", how=\"inner\")\n",
    "df = df.merge(exchange_rates, on=\"Date\", how=\"inner\")\n",
    "df = df.merge(osebx, on=\"Date\", how=\"inner\") \n",
    "\n",
    "df = df.drop(columns=[\"Close\", \"High\", \"Low\", \"Open\", \"Volume\",\n",
    "       \"FREQ_x\", \"Frequency_x\", \"TENOR_x\", \"Tenor_x\", \"DECIMALS_x\",\n",
    "       \"FREQ_y\", \"Frequency_y\", \"BASE_CUR\", \"Base Currency\",\n",
    "       \"QUOTE_CUR\", \"Quote Currency\", \"TENOR_y\", \"Tenor_y\", \"DECIMALS_y\",\n",
    "       \"CALCULATED\", \"UNIT_MULT\", \"Unit Multiplier\", \"COLLECTION\",\n",
    "       \"Collection Indicator\"])\n",
    "\n",
    "df.rename(columns={\"OBS_VALUE_x\": \"zero_coupon_rate\"}, inplace=True)\n",
    "df.rename(columns={\"OBS_VALUE_y\": \"usd_nok_exchange_rate\"}, inplace=True)\n",
    "\n",
    "print(df.head())"
   ]
  },
  {
   "cell_type": "markdown",
   "metadata": {},
   "source": [
    "Check for multicollinearity by computing the correlation matrix."
   ]
  },
  {
   "cell_type": "code",
   "execution_count": 122,
   "metadata": {},
   "outputs": [
    {
     "data": {
      "image/png": "[encoded data removed]",
      "text/plain": [
       "<Figure size 1000x600 with 2 Axes>"
      ]
     },
     "metadata": {},
     "output_type": "display_data"
    }
   ],
   "source": [
    "# Compute the correlation matrix\n",
    "selected_columns = [\"kpi\", \"usd_nok_exchange_rate\", \"zero_coupon_rate\"]\n",
    "corr_matrix = df[selected_columns].corr()\n",
    "\n",
    "# Visualize the correlation matrix as a heatmap\n",
    "plt.figure(figsize=(10, 6))\n",
    "sns.heatmap(corr_matrix, annot=True, cmap=\"coolwarm\", fmt=\".2f\", linewidths=0.5)\n",
    "plt.title(\"Correlation Matrix\")\n",
    "plt.show()"
   ]
  },
  {
   "attachments": {},
   "cell_type": "markdown",
   "metadata": {},
   "source": [
    "We define highly correlated values to have a correlation coefficient >0.9. Because all variables have a correlation coefficient below 0.9, we decide to keep all of the explanatory variables. However, we notice that especially between usd_nok_exchange_rate and kpi and between zero_coupon_rate and kpi the correlation coefficient is close to the boundary. "
   ]
  },
  {
   "cell_type": "markdown",
   "metadata": {},
   "source": [
    "After having checked for correlation, we check for stationarity by applying the Augmented Dickey-Fuller (ADF) test."
   ]
  },
  {
   "cell_type": "code",
   "execution_count": 123,
   "metadata": {},
   "outputs": [
    {
     "name": "stdout",
     "output_type": "stream",
     "text": [
      "========================================\n",
      "ADF Test for Log Return:\n",
      "ADF Statistic: -15.8678\n",
      "p-value: 0.0000\n",
      "Stationary\n",
      "========================================\n",
      "\n",
      "========================================\n",
      "ADF Test for Zero Coupon Rate:\n",
      "ADF Statistic: -0.5795\n",
      "p-value: 0.8755\n",
      "Non-stationary\n",
      "========================================\n",
      "\n",
      "========================================\n",
      "ADF Test for USD/NOK Exchange Rate:\n",
      "ADF Statistic: -1.4185\n",
      "p-value: 0.5734\n",
      "Non-stationary\n",
      "========================================\n",
      "\n",
      "========================================\n",
      "ADF Test for CPI:\n",
      "ADF Statistic: 1.7132\n",
      "p-value: 0.9982\n",
      "Non-stationary\n",
      "========================================\n",
      "\n"
     ]
    }
   ],
   "source": [
    "# Check for stationarity \n",
    "def adf_test(series, var_name):\n",
    "    result = adfuller(series.dropna())  \n",
    "    print(\"=\"*40)  # Separator line\n",
    "    print(f\"ADF Test for {var_name}:\")\n",
    "    print(f\"ADF Statistic: {result[0]:.4f}\")\n",
    "    print(f\"p-value: {result[1]:.4f}\")\n",
    "    print(\"Stationary\" if result[1] < 0.05 else \"Non-stationary\")\n",
    "    print(\"=\"*40 + \"\\n\")  # End separator\n",
    "\n",
    "# Run ADF tests on all relevant variables\n",
    "adf_test(df[\"log_return\"], \"Log Return\")\n",
    "adf_test(df[\"zero_coupon_rate\"], \"Zero Coupon Rate\")  \n",
    "adf_test(df[\"usd_nok_exchange_rate\"], \"USD/NOK Exchange Rate\")  \n",
    "adf_test(df[\"kpi\"], \"CPI\")"
   ]
  },
  {
   "cell_type": "markdown",
   "metadata": {},
   "source": [
    "From the output, we can see that the variables \"zero coupon rate\", \"USD/NOK exchange rate\", and \"CPI\" are non-stationary. To get these variables to be stationary, we apply first differences to these columns."
   ]
  },
  {
   "cell_type": "code",
   "execution_count": 124,
   "metadata": {},
   "outputs": [
    {
     "name": "stdout",
     "output_type": "stream",
     "text": [
      "========================================\n",
      "ADF Test for Differenced Zero Coupon Rate:\n",
      "ADF Statistic: -45.8067\n",
      "p-value: 0.0000\n",
      "Stationary\n",
      "========================================\n",
      "\n",
      "========================================\n",
      "ADF Test for Differenced USD/NOK Exchange Rate:\n",
      "ADF Statistic: -50.8674\n",
      "p-value: 0.0000\n",
      "Stationary\n",
      "========================================\n",
      "\n",
      "========================================\n",
      "ADF Test for Differenced CPI:\n",
      "ADF Statistic: -6.7596\n",
      "p-value: 0.0000\n",
      "Stationary\n",
      "========================================\n",
      "\n"
     ]
    }
   ],
   "source": [
    "# Transform to stationary variables by applying first differences\n",
    "df[\"d_kpi\"] = df[\"kpi\"].diff()\n",
    "df[\"d_zero_coupon_rate\"] = df[\"zero_coupon_rate\"].diff()\n",
    "df[\"d_usd_nok_exchange_rate\"] = df[\"usd_nok_exchange_rate\"].diff()\n",
    "\n",
    "df = df.dropna()\n",
    "\n",
    "adf_test(df[\"d_zero_coupon_rate\"], \"Differenced Zero Coupon Rate\") \n",
    "adf_test(df[\"d_usd_nok_exchange_rate\"], \"Differenced USD/NOK Exchange Rate\") \n",
    "adf_test(df[\"d_kpi\"], \"Differenced CPI\") "
   ]
  },
  {
   "cell_type": "markdown",
   "metadata": {},
   "source": [
    "From the output, we can see that all the variables now are stationary."
   ]
  },
  {
   "cell_type": "code",
   "execution_count": 125,
   "metadata": {},
   "outputs": [
    {
     "name": "stdout",
     "output_type": "stream",
     "text": [
      "        Date        kpi  zero_coupon_rate  usd_nok_exchange_rate  log_return  \\\n",
      "1 2015-03-04  99.238710             1.546                 7.7441   -0.012511   \n",
      "2 2015-03-05  99.251613             1.567                 7.7207    0.011992   \n",
      "3 2015-03-06  99.264516             1.639                 7.7917    0.002769   \n",
      "4 2015-03-09  99.303226             1.676                 7.8992   -0.006572   \n",
      "5 2015-03-10  99.316129             1.748                 8.0457   -0.017672   \n",
      "\n",
      "      d_kpi  d_zero_coupon_rate  d_usd_nok_exchange_rate  \n",
      "1  0.012903               0.006                   0.0350  \n",
      "2  0.012903               0.021                  -0.0234  \n",
      "3  0.012903               0.072                   0.0710  \n",
      "4  0.038710               0.037                   0.1075  \n",
      "5  0.012903               0.072                   0.1465  \n"
     ]
    }
   ],
   "source": [
    "print(df.head())"
   ]
  },
  {
   "cell_type": "markdown",
   "metadata": {},
   "source": [
    "#### Split into training and testing data"
   ]
  },
  {
   "cell_type": "code",
   "execution_count": 126,
   "metadata": {},
   "outputs": [],
   "source": [
    "# Define the split percentage (e.g., 80% train, 20% test)\n",
    "split_idx = int(len(df) * 0.8)\n",
    "\n",
    "# Split the data\n",
    "train_df = df.iloc[:split_idx].copy()  # First 80% for training\n",
    "test_df = df.iloc[split_idx:].copy()   # Last 20% for testing\n",
    "\n",
    "# Define training and testing sets\n",
    "X_train, y_train = train_df[['d_kpi', 'd_zero_coupon_rate', 'd_usd_nok_exchange_rate']], train_df['log_return']\n",
    "X_test, y_test = test_df[['d_kpi', 'd_zero_coupon_rate', 'd_usd_nok_exchange_rate']], test_df['log_return']\n"
   ]
  },
  {
   "cell_type": "markdown",
   "metadata": {},
   "source": [
    "### Multiple Linear Regression (MLR)"
   ]
  },
  {
   "cell_type": "code",
   "execution_count": 127,
   "metadata": {},
   "outputs": [
    {
     "name": "stdout",
     "output_type": "stream",
     "text": [
      "                            OLS Regression Results                            \n",
      "==============================================================================\n",
      "Dep. Variable:             log_return   R-squared:                       0.107\n",
      "Model:                            OLS   Adj. R-squared:                  0.106\n",
      "Method:                 Least Squares   F-statistic:                     78.97\n",
      "Date:                Tue, 25 Mar 2025   Prob (F-statistic):           3.03e-48\n",
      "Time:                        11:21:32   Log-Likelihood:                 6183.9\n",
      "No. Observations:                1979   AIC:                        -1.236e+04\n",
      "Df Residuals:                    1975   BIC:                        -1.234e+04\n",
      "Df Model:                           3                                         \n",
      "Covariance Type:            nonrobust                                         \n",
      "===========================================================================================\n",
      "                              coef    std err          t      P>|t|      [0.025      0.975]\n",
      "-------------------------------------------------------------------------------------------\n",
      "const                       0.0005      0.000      2.055      0.040    2.47e-05       0.001\n",
      "d_kpi                      -0.0117      0.008     -1.454      0.146      -0.027       0.004\n",
      "d_zero_coupon_rate          0.0272      0.006      4.585      0.000       0.016       0.039\n",
      "d_usd_nok_exchange_rate    -0.0478      0.003    -14.258      0.000      -0.054      -0.041\n",
      "==============================================================================\n",
      "Omnibus:                      241.674   Durbin-Watson:                   2.121\n",
      "Prob(Omnibus):                  0.000   Jarque-Bera (JB):             1620.208\n",
      "Skew:                          -0.356   Prob(JB):                         0.00\n",
      "Kurtosis:                       7.375   Cond. No.                         33.7\n",
      "==============================================================================\n",
      "\n",
      "Notes:\n",
      "[1] Standard Errors assume that the covariance matrix of the errors is correctly specified.\n"
     ]
    }
   ],
   "source": [
    "# Add constant for intercept\n",
    "X_train_ols = sm.add_constant(X_train)\n",
    "\n",
    "# Train OLS model\n",
    "ols_model = sm.OLS(y_train, X_train_ols).fit()\n",
    "\n",
    "# Print summary\n",
    "print(ols_model.summary())"
   ]
  },
  {
   "cell_type": "markdown",
   "metadata": {},
   "source": [
    "Checking for autocorrelation using Breusch-Godfrey test"
   ]
  },
  {
   "cell_type": "code",
   "execution_count": 128,
   "metadata": {},
   "outputs": [
    {
     "name": "stdout",
     "output_type": "stream",
     "text": [
      "Breusch-Godfrey Test (nlags=1)\n",
      "LM Statistic: 7.5384\n",
      "P-Value: 0.0060\n",
      "F-Statistic: 7.5481\n",
      "F-Test P-Value: 0.0061\n",
      "Autocorrelation detected in residuals (reject H0).\n"
     ]
    }
   ],
   "source": [
    "def breusch_godfrey_test(model, nlags=1):\n",
    "   \n",
    "    # Perform the test\n",
    "    lm_stat, p_value, f_stat, f_p_value = acorr_breusch_godfrey(model, nlags=nlags)\n",
    "\n",
    "    # Print results\n",
    "    print(f\"Breusch-Godfrey Test (nlags={nlags})\")\n",
    "    print(f\"LM Statistic: {lm_stat:.4f}\")\n",
    "    print(f\"P-Value: {p_value:.4f}\")\n",
    "    print(f\"F-Statistic: {f_stat:.4f}\")\n",
    "    print(f\"F-Test P-Value: {f_p_value:.4f}\")\n",
    "\n",
    "    # Interpretation\n",
    "    if p_value < 0.05:\n",
    "        print(\"Autocorrelation detected in residuals (reject H0).\")\n",
    "    else:\n",
    "        print(\"No significant autocorrelation detected (fail to reject H0).\")\n",
    "\n",
    "    # Return results as a dictionary\n",
    "    return {\n",
    "        \"LM Statistic\": lm_stat,\n",
    "        \"P-Value\": p_value,\n",
    "        \"F-Statistic\": f_stat,\n",
    "        \"F-Test P-Value\": f_p_value\n",
    "    }\n",
    "\n",
    "results = breusch_godfrey_test(ols_model, nlags=1)"
   ]
  },
  {
   "cell_type": "markdown",
   "metadata": {},
   "source": [
    "To deal with autocorrelation we will try to add lagged variables. To get an impression of how many lags to use we visualize the partial autocorrelation function (PACF). "
   ]
  },
  {
   "cell_type": "code",
   "execution_count": 129,
   "metadata": {},
   "outputs": [
    {
     "data": {
      "text/plain": [
       "<Figure size 800x500 with 0 Axes>"
      ]
     },
     "metadata": {},
     "output_type": "display_data"
    },
    {
     "data": {
      "image/png": "[encoded data removed]",
      "text/plain": [
       "<Figure size 640x480 with 1 Axes>"
      ]
     },
     "metadata": {},
     "output_type": "display_data"
    }
   ],
   "source": [
    "# Check PACF for 'log_return'\n",
    "plt.figure(figsize=(8, 5))\n",
    "plot_pacf(df['log_return'], lags=21, method='ywm')\n",
    "plt.title(\"Partial Autocorrelation Function (PACF)\")\n",
    "plt.show()"
   ]
  },
  {
   "cell_type": "markdown",
   "metadata": {},
   "source": [
    "#### PACF"
   ]
  },
  {
   "cell_type": "markdown",
   "metadata": {},
   "source": [
    "The figure above shows the partial autocorrelation coefficient for each lag, with the blue dashed lines representing the 95% confidence interval. Any bar extending this interval indicates statistical significance. From the figure, we observe that lag 7 and lag 18 seems to be most significant. \n",
    "\n",
    "We try to add lagged variables for lag 7 and lag 18 to remove autocorrelation."
   ]
  },
  {
   "cell_type": "code",
   "execution_count": 130,
   "metadata": {},
   "outputs": [
    {
     "data": {
      "text/plain": [
       "\"\\ntrain_df['d_kpi_lag7'] = train_df['d_kpi'].shift(7)\\ntrain_df['d_zero_coupon_rate_lag7'] = train_df['d_zero_coupon_rate'].shift(7)\\ntrain_df['d_usd_nok_exchange_rate_lag7'] = train_df['d_usd_nok_exchange_rate'].shift(7)\\n\\ntrain_df['d_kpi_lag18'] = train_df['d_kpi'].shift(18)\\ntrain_df['d_zero_coupon_rate_lag18'] = train_df['d_zero_coupon_rate'].shift(18)\\ntrain_df['d_usd_nok_exchange_rate_lag18'] = train_df['d_usd_nok_exchange_rate'].shift(18)\\n\\n# Due to lagging NaN values are dropped in the training set \\ntrain_df.dropna(inplace=True)\\n\\n# Define the new independent variables\\nX = train_df[['d_kpi', 'd_zero_coupon_rate', 'd_usd_nok_exchange_rate',\\n        'd_kpi_lag7', 'd_zero_coupon_rate_lag7', 'd_usd_nok_exchange_rate_lag7', \\n        'd_kpi_lag18','d_zero_coupon_rate_lag18', 'd_usd_nok_exchange_rate_lag18']]\\n\\ny_train = train_df['log_return']\\n\\n# Add a constant for intercept\\nX = sm.add_constant(X)\\n\\n# Fit the new OLS model\\nmodel1 = sm.OLS(y_train, X).fit()\\n\""
      ]
     },
     "execution_count": 130,
     "metadata": {},
     "output_type": "execute_result"
    }
   ],
   "source": [
    "\"\"\"\n",
    "train_df['d_kpi_lag7'] = train_df['d_kpi'].shift(7)\n",
    "train_df['d_zero_coupon_rate_lag7'] = train_df['d_zero_coupon_rate'].shift(7)\n",
    "train_df['d_usd_nok_exchange_rate_lag7'] = train_df['d_usd_nok_exchange_rate'].shift(7)\n",
    "\n",
    "train_df['d_kpi_lag18'] = train_df['d_kpi'].shift(18)\n",
    "train_df['d_zero_coupon_rate_lag18'] = train_df['d_zero_coupon_rate'].shift(18)\n",
    "train_df['d_usd_nok_exchange_rate_lag18'] = train_df['d_usd_nok_exchange_rate'].shift(18)\n",
    "\n",
    "# Due to lagging NaN values are dropped in the training set \n",
    "train_df.dropna(inplace=True)\n",
    "\n",
    "# Define the new independent variables\n",
    "X = train_df[['d_kpi', 'd_zero_coupon_rate', 'd_usd_nok_exchange_rate',\n",
    "        'd_kpi_lag7', 'd_zero_coupon_rate_lag7', 'd_usd_nok_exchange_rate_lag7', \n",
    "        'd_kpi_lag18','d_zero_coupon_rate_lag18', 'd_usd_nok_exchange_rate_lag18']]\n",
    "\n",
    "y_train = train_df['log_return']\n",
    "\n",
    "# Add a constant for intercept\n",
    "X = sm.add_constant(X)\n",
    "\n",
    "# Fit the new OLS model\n",
    "model1 = sm.OLS(y_train, X).fit()\n",
    "\"\"\""
   ]
  },
  {
   "cell_type": "code",
   "execution_count": 131,
   "metadata": {},
   "outputs": [],
   "source": [
    "#results1 = breusch_godfrey_test(model1, nlags=1)\n",
    "#print(results1)"
   ]
  },
  {
   "cell_type": "markdown",
   "metadata": {},
   "source": [
    "Add lags until no autocorrelation"
   ]
  },
  {
   "cell_type": "code",
   "execution_count": 132,
   "metadata": {},
   "outputs": [],
   "source": [
    "# Define the lags you want to create\n",
    "lags = [1, 2, 3, 4, 5, 6, 7, 8, 9, 10, 11, 12, 13, 14, 15, 16, 17, 18, 19, 20, 21, 22, 23, 24, 25, 26, 27, 28, 29, 30]\n",
    "variables = ['d_kpi', 'd_zero_coupon_rate', 'd_usd_nok_exchange_rate']\n",
    "\n",
    "# Create lagged variables using a loop\n",
    "for var in variables:\n",
    "    for lag in lags:\n",
    "        train_df[f'{var}_lag{lag}'] = train_df[var].shift(lag)\n",
    "\n",
    "# Drop NaN values introduced by lagging\n",
    "train_df.dropna(inplace=True)\n",
    "\n",
    "# Define independent variables dynamically\n",
    "X = train_df[[col for col in train_df.columns if col.startswith('d_kpi') or \n",
    "               col.startswith('d_zero_coupon_rate') or \n",
    "               col.startswith('d_usd_nok_exchange_rate')]]\n",
    "\n",
    "\n",
    "y_train = train_df['log_return']\n",
    "\n",
    "# Add a constant for intercept\n",
    "X = sm.add_constant(X)\n",
    "\n",
    "# Fit the new OLS model\n",
    "model2 = sm.OLS(y_train, X).fit()\n"
   ]
  },
  {
   "cell_type": "markdown",
   "metadata": {},
   "source": [
    "Check for autocorrelation again"
   ]
  },
  {
   "cell_type": "code",
   "execution_count": 133,
   "metadata": {},
   "outputs": [
    {
     "name": "stdout",
     "output_type": "stream",
     "text": [
      "Breusch-Godfrey Test (nlags=1)\n",
      "LM Statistic: 3.7932\n",
      "P-Value: 0.0515\n",
      "F-Statistic: 3.6153\n",
      "F-Test P-Value: 0.0574\n",
      "No significant autocorrelation detected (fail to reject H0).\n"
     ]
    }
   ],
   "source": [
    "results2 = breusch_godfrey_test(model2, nlags=1)\n"
   ]
  },
  {
   "cell_type": "markdown",
   "metadata": {},
   "source": [
    "We continue with using model with only lags 7 and 18. Bla bla"
   ]
  },
  {
   "cell_type": "code",
   "execution_count": 134,
   "metadata": {},
   "outputs": [
    {
     "name": "stdout",
     "output_type": "stream",
     "text": [
      "Breusch-Godfrey Test (nlags=1)\n",
      "LM Statistic: 6.2129\n",
      "P-Value: 0.0127\n",
      "F-Statistic: 6.1976\n",
      "F-Test P-Value: 0.0129\n",
      "Autocorrelation detected in residuals (reject H0).\n",
      "                            OLS Regression Results                            \n",
      "==============================================================================\n",
      "Dep. Variable:             log_return   R-squared:                       0.117\n",
      "Model:                            OLS   Adj. R-squared:                  0.113\n",
      "Method:                 Least Squares   F-statistic:                     28.51\n",
      "Date:                Tue, 25 Mar 2025   Prob (F-statistic):           6.44e-47\n",
      "Time:                        11:21:32   Log-Likelihood:                 6098.5\n",
      "No. Observations:                1949   AIC:                        -1.218e+04\n",
      "Df Residuals:                    1939   BIC:                        -1.212e+04\n",
      "Df Model:                           9                                         \n",
      "Covariance Type:            nonrobust                                         \n",
      "=================================================================================================\n",
      "                                    coef    std err          t      P>|t|      [0.025      0.975]\n",
      "-------------------------------------------------------------------------------------------------\n",
      "const                             0.0005      0.000      1.689      0.091   -7.93e-05       0.001\n",
      "d_kpi                            -0.0136      0.009     -1.565      0.118      -0.031       0.003\n",
      "d_zero_coupon_rate                0.0288      0.006      4.820      0.000       0.017       0.041\n",
      "d_usd_nok_exchange_rate          -0.0498      0.003    -14.599      0.000      -0.056      -0.043\n",
      "d_kpi_lag7                        0.0053      0.009      0.588      0.557      -0.012       0.023\n",
      "d_kpi_lag18                      -0.0017      0.008     -0.205      0.838      -0.018       0.015\n",
      "d_zero_coupon_rate_lag7           0.0078      0.006      1.299      0.194      -0.004       0.020\n",
      "d_zero_coupon_rate_lag18          0.0008      0.006      0.132      0.895      -0.011       0.013\n",
      "d_usd_nok_exchange_rate_lag7     -0.0064      0.003     -1.876      0.061      -0.013       0.000\n",
      "d_usd_nok_exchange_rate_lag18     0.0050      0.003      1.448      0.148      -0.002       0.012\n",
      "==============================================================================\n",
      "Omnibus:                      231.808   Durbin-Watson:                   2.111\n",
      "Prob(Omnibus):                  0.000   Jarque-Bera (JB):             1541.498\n",
      "Skew:                          -0.338   Prob(JB):                         0.00\n",
      "Kurtosis:                       7.304   Cond. No.                         44.8\n",
      "==============================================================================\n",
      "\n",
      "Notes:\n",
      "[1] Standard Errors assume that the covariance matrix of the errors is correctly specified.\n"
     ]
    }
   ],
   "source": [
    "# Define the lags we want to keep\n",
    "keep_lags = [7, 18]\n",
    "\n",
    "# Keep only the original variables and the selected lagged variables\n",
    "columns_to_keep = ['d_kpi', 'd_zero_coupon_rate', 'd_usd_nok_exchange_rate']  # Original columns\n",
    "columns_to_keep += [f'{var}_lag{lag}' for var in variables for lag in keep_lags]  # Only lags 7 & 18\n",
    "\n",
    "# Select only the necessary columns\n",
    "train_df = train_df[columns_to_keep + ['log_return']]\n",
    "\n",
    "# Drop NaN values introduced by lagging\n",
    "train_df.dropna(inplace=True)\n",
    "\n",
    "# Define independent and dependent variables\n",
    "X = train_df.drop(columns=['log_return'])\n",
    "y_train = train_df['log_return']\n",
    "\n",
    "# Add a constant for intercept\n",
    "X = sm.add_constant(X)\n",
    "\n",
    "# Fit the new OLS model\n",
    "model3 = sm.OLS(y_train, X).fit()\n",
    "\n",
    "results3 = breusch_godfrey_test(model3, nlags=1)\n",
    "\n",
    "print(model3.summary())"
   ]
  },
  {
   "cell_type": "markdown",
   "metadata": {},
   "source": [
    "#### Heteroscedasticity\n",
    "We test for heteroscedasticity using the ARCH test, as it is well-suited for time-series data."
   ]
  },
  {
   "cell_type": "code",
   "execution_count": 135,
   "metadata": {},
   "outputs": [
    {
     "name": "stdout",
     "output_type": "stream",
     "text": [
      "ARCH Test Statistic: 393.0389257524186\n",
      "p-value: 2.850869036888209e-78\n"
     ]
    }
   ],
   "source": [
    "# Extract residuals\n",
    "residuals = model3.resid\n",
    "\n",
    "# Perform ARCH test\n",
    "arch_test = het_arch(residuals)\n",
    "\n",
    "# Print results\n",
    "print(f\"ARCH Test Statistic: {arch_test[0]}\")\n",
    "print(f\"p-value: {arch_test[1]}\")"
   ]
  },
  {
   "cell_type": "code",
   "execution_count": 136,
   "metadata": {},
   "outputs": [
    {
     "name": "stdout",
     "output_type": "stream",
     "text": [
      "                            OLS Regression Results                            \n",
      "==============================================================================\n",
      "Dep. Variable:             log_return   R-squared:                       0.117\n",
      "Model:                            OLS   Adj. R-squared:                  0.113\n",
      "Method:                 Least Squares   F-statistic:                     6.497\n",
      "Date:                Tue, 25 Mar 2025   Prob (F-statistic):           3.70e-09\n",
      "Time:                        11:21:32   Log-Likelihood:                 6098.5\n",
      "No. Observations:                1949   AIC:                        -1.218e+04\n",
      "Df Residuals:                    1939   BIC:                        -1.212e+04\n",
      "Df Model:                           9                                         \n",
      "Covariance Type:                  HC3                                         \n",
      "=================================================================================================\n",
      "                                    coef    std err          t      P>|t|      [0.025      0.975]\n",
      "-------------------------------------------------------------------------------------------------\n",
      "const                             0.0005      0.000      1.777      0.076   -5.11e-05       0.001\n",
      "d_kpi                            -0.0136      0.009     -1.503      0.133      -0.031       0.004\n",
      "d_zero_coupon_rate                0.0288      0.008      3.544      0.000       0.013       0.045\n",
      "d_usd_nok_exchange_rate          -0.0498      0.008     -6.065      0.000      -0.066      -0.034\n",
      "d_kpi_lag7                        0.0053      0.009      0.591      0.554      -0.012       0.023\n",
      "d_kpi_lag18                      -0.0017      0.008     -0.209      0.834      -0.018       0.014\n",
      "d_zero_coupon_rate_lag7           0.0078      0.007      1.119      0.263      -0.006       0.022\n",
      "d_zero_coupon_rate_lag18          0.0008      0.006      0.130      0.897      -0.011       0.013\n",
      "d_usd_nok_exchange_rate_lag7     -0.0064      0.005     -1.219      0.223      -0.017       0.004\n",
      "d_usd_nok_exchange_rate_lag18     0.0050      0.004      1.290      0.197      -0.003       0.012\n",
      "==============================================================================\n",
      "Omnibus:                      231.808   Durbin-Watson:                   2.111\n",
      "Prob(Omnibus):                  0.000   Jarque-Bera (JB):             1541.498\n",
      "Skew:                          -0.338   Prob(JB):                         0.00\n",
      "Kurtosis:                       7.304   Cond. No.                         44.8\n",
      "==============================================================================\n",
      "\n",
      "Notes:\n",
      "[1] Standard Errors are heteroscedasticity robust (HC3)\n"
     ]
    }
   ],
   "source": [
    "# Compute robust standard errors (Huber-White/HC3 for larger samples)\n",
    "model_robust = model3.get_robustcov_results(cov_type='HC3')\n",
    "\n",
    "# Print summary with robust standard errors\n",
    "print(model_robust.summary())"
   ]
  },
  {
   "cell_type": "code",
   "execution_count": 137,
   "metadata": {},
   "outputs": [
    {
     "name": "stdout",
     "output_type": "stream",
     "text": [
      "ARCH Test Statistic: 393.0389257524186\n",
      "p-value: 2.850869036888209e-78\n"
     ]
    }
   ],
   "source": [
    "# Extract residuals\n",
    "residuals2 = model_robust.resid\n",
    "\n",
    "# Perform ARCH test\n",
    "arch_test2 = het_arch(residuals2)\n",
    "\n",
    "# Print results\n",
    "print(f\"ARCH Test Statistic: {arch_test2[0]}\")\n",
    "print(f\"p-value: {arch_test2[1]}\")"
   ]
  },
  {
   "cell_type": "markdown",
   "metadata": {},
   "source": [
    "#### Model Evaluation"
   ]
  },
  {
   "cell_type": "code",
   "execution_count": null,
   "metadata": {},
   "outputs": [
    {
     "name": "stdout",
     "output_type": "stream",
     "text": [
      "MAPE: 244.0910%\n",
      "MSE: 0.0001\n",
      "MAE: 0.0061\n",
      "First 20 rows of y_test vs y_pred:\n",
      "        y_test    y_pred\n",
      "1998 -0.000422 -0.004597\n",
      "1999 -0.008038 -0.003662\n",
      "2000 -0.001406 -0.008650\n",
      "2001 -0.008098 -0.000576\n",
      "2002 -0.010578 -0.003993\n",
      "2003 -0.026264 -0.003498\n",
      "2004  0.013691  0.006979\n",
      "2005 -0.038118 -0.011636\n",
      "2006 -0.000215 -0.002552\n",
      "2007 -0.006053  0.001765\n",
      "2008  0.010646  0.005909\n",
      "2009  0.009531  0.010995\n",
      "2010  0.001427  0.000674\n",
      "2011 -0.001503  0.003979\n",
      "2012 -0.029730 -0.006626\n",
      "2013  0.014656  0.001960\n",
      "2014  0.000707  0.003517\n",
      "2015  0.007697  0.002009\n",
      "2016  0.013658  0.000293\n",
      "2017  0.007493 -0.004677\n"
     ]
    }
   ],
   "source": [
    "import numpy as np\n",
    "import pandas as pd\n",
    "import statsmodels.api as sm\n",
    "from sklearn.metrics import mean_absolute_error, mean_squared_error\n",
    "\n",
    "X_test = X_test.copy()\n",
    "\n",
    "# Ensure that lags 7 and 18 exist in the test set\n",
    "X_test['d_kpi_lag7'] = X_test['d_kpi'].shift(7)\n",
    "X_test['d_zero_coupon_rate_lag7'] = X_test['d_zero_coupon_rate'].shift(7)\n",
    "X_test['d_usd_nok_exchange_rate_lag7'] = X_test['d_usd_nok_exchange_rate'].shift(7)\n",
    "\n",
    "X_test['d_kpi_lag18'] = X_test['d_kpi'].shift(18)\n",
    "X_test['d_zero_coupon_rate_lag18'] = X_test['d_zero_coupon_rate'].shift(18)\n",
    "X_test['d_usd_nok_exchange_rate_lag18'] = X_test['d_usd_nok_exchange_rate'].shift(18)\n",
    "\n",
    "# Drop rows with NaN values (first 18 rows will have NaNs due to lags)\n",
    "X_test = X_test.dropna()\n",
    "y_test = y_test.loc[X_test.index]  # Ensure y_test aligns with new X_test\n",
    "\n",
    "# Add constant for intercept\n",
    "X_test = sm.add_constant(X_test)\n",
    "\n",
    "# Make predictions\n",
    "y_pred = model_robust.predict(X_test)\n",
    "\n",
    "# Compute performance metrics\n",
    "mape = np.mean(np.abs((y_test - y_pred) / y_test)) * 100  # Mean Absolute Percentage Error\n",
    "mse = mean_squared_error(y_test, y_pred)  # Mean Squared Error\n",
    "mae = mean_absolute_error(y_test, y_pred)  # Mean Absolute Error\n",
    "\n",
    "# Print results\n",
    "print(f\"MAPE: {mape:.4f}%\")\n",
    "print(f\"MSE: {mse:.4f}\")\n",
    "print(f\"MAE: {mae:.4f}\")\n"
   ]
  },
  {
   "cell_type": "markdown",
   "metadata": {},
   "source": [
    "### ARIMAX"
   ]
  },
  {
   "cell_type": "code",
   "execution_count": 139,
   "metadata": {},
   "outputs": [],
   "source": [
    "# TODO: Elias og Erik"
   ]
  }
 ],
 "metadata": {
  "kernelspec": {
   "display_name": "Python 3",
   "language": "python",
   "name": "python3"
  },
  "language_info": {
   "codemirror_mode": {
    "name": "ipython",
    "version": 3
   },
   "file_extension": ".py",
   "mimetype": "text/x-python",
   "name": "python",
   "nbconvert_exporter": "python",
   "pygments_lexer": "ipython3",
   "version": "3.13.2"
  }
 },
 "nbformat": 4,
 "nbformat_minor": 2
}
