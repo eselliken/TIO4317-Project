{
 "cells": [
  {
   "cell_type": "code",
   "execution_count": 1,
   "metadata": {},
   "outputs": [],
   "source": [
    "# Imports\n",
    "\n",
    "import pandas as pd\n",
    "import numpy as np\n",
    "import os"
   ]
  },
  {
   "cell_type": "code",
   "execution_count": null,
   "metadata": {},
   "outputs": [],
   "source": [
    "# Define the folder path\n",
    "data_path = \"data/\"\n",
    "\n",
    "# Load datasets\n",
    "#osebx = pd.read_csv(os.path.join(data_path, \"osebx.csv\"))\n",
    "zero_coupon = pd.read_csv(os.path.join(data_path, \"zero_coupon.csv\"))\n",
    "exchange_rates = pd.read_csv(os.path.join(data_path, \"exchange_rates.csv\"))\n",
    "inflation = pd.read_csv(os.path.join(data_path, \"kpi.csv\"))"
   ]
  }
 ],
 "metadata": {
  "kernelspec": {
   "display_name": "base",
   "language": "python",
   "name": "python3"
  },
  "language_info": {
   "codemirror_mode": {
    "name": "ipython",
    "version": 3
   },
   "file_extension": ".py",
   "mimetype": "text/x-python",
   "name": "python",
   "nbconvert_exporter": "python",
   "pygments_lexer": "ipython3",
   "version": "3.9.12"
  },
  "vscode": {
   "interpreter": {
    "hash": "159820fe4281184c11d9b0cf5117ec85b255d1c06dfda33d2b36368cb24a50db"
   }
  }
 },
 "nbformat": 4,
 "nbformat_minor": 2
}
