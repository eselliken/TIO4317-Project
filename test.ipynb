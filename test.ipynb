{
 "cells": [
  {
   "cell_type": "code",
   "execution_count": 105,
   "metadata": {},
   "outputs": [],
   "source": [
    "# Imports\n",
    "\n",
    "import pandas as pd\n",
    "import numpy as np\n",
    "import os\n",
    "from matplotlib import pyplot as plt\n",
    "import seaborn as sns"
   ]
  },
  {
   "cell_type": "code",
   "execution_count": 106,
   "metadata": {},
   "outputs": [],
   "source": [
    "# Define the folder path\n",
    "data_path = \"data/\"\n",
    "\n",
    "# Load datasets\n",
    "zero_coupon = pd.read_csv(os.path.join(data_path, \"zero_coupon_rates.csv\"), delimiter=\";\")\n",
    "exchange_rates = pd.read_csv(os.path.join(data_path, \"usd_nok.csv\"), delimiter=\";\")\n",
    "inflation = pd.read_csv(os.path.join(data_path, \"kpi.csv\"), delimiter=\";\")\n",
    "osebx = pd.read_csv(os.path.join(data_path, \"osebx_prices.csv\"), delimiter=\";\")\n",
    "\n",
    "# Replace commas with dots in the KPI column and convert to float\n",
    "inflation[\"kpi\"] = inflation[\"kpi\"].str.replace(\",\", \".\").astype(float)\n"
   ]
  },
  {
   "cell_type": "code",
   "execution_count": 107,
   "metadata": {},
   "outputs": [
    {
     "name": "stdout",
     "output_type": "stream",
     "text": [
      "Date      0\n",
      "Close     0\n",
      "High      0\n",
      "Low       0\n",
      "Open      0\n",
      "Volume    0\n",
      "dtype: int64\n",
      "FREQ           0\n",
      "Frequency      0\n",
      "TENOR          0\n",
      "Tenor          0\n",
      "DECIMALS       0\n",
      "TIME_PERIOD    0\n",
      "OBS_VALUE      0\n",
      "dtype: int64\n",
      "FREQ                    0\n",
      "Frequency               0\n",
      "BASE_CUR                0\n",
      "Base Currency           0\n",
      "QUOTE_CUR               0\n",
      "Quote Currency          0\n",
      "TENOR                   0\n",
      "Tenor                   0\n",
      "DECIMALS                0\n",
      "CALCULATED              0\n",
      "UNIT_MULT               0\n",
      "Unit Multiplier         0\n",
      "COLLECTION              0\n",
      "Collection Indicator    0\n",
      "TIME_PERIOD             0\n",
      "OBS_VALUE               0\n",
      "dtype: int64\n",
      "Date    0\n",
      "kpi     0\n",
      "dtype: int64\n"
     ]
    }
   ],
   "source": [
    "# Check missing values\n",
    "print(osebx.isnull().sum())\n",
    "print(zero_coupon.isnull().sum())\n",
    "print(exchange_rates.isnull().sum())\n",
    "print(inflation.isnull().sum())\n"
   ]
  },
  {
   "attachments": {},
   "cell_type": "markdown",
   "metadata": {},
   "source": [
    "No missing values"
   ]
  },
  {
   "cell_type": "code",
   "execution_count": 108,
   "metadata": {},
   "outputs": [
    {
     "name": "stdout",
     "output_type": "stream",
     "text": [
      "        Date    kpi\n",
      "0 2015-03-01   99.2\n",
      "1 2015-04-01   99.6\n",
      "2 2015-05-01   99.8\n",
      "3 2015-06-01  100.1\n",
      "4 2015-07-01  100.1\n"
     ]
    }
   ],
   "source": [
    "# Convert Date to Datetime format\n",
    "osebx[\"Date\"] = pd.to_datetime(osebx[\"Date\"])\n",
    "zero_coupon[\"TIME_PERIOD\"] = pd.to_datetime(zero_coupon[\"TIME_PERIOD\"])\n",
    "exchange_rates[\"TIME_PERIOD\"] = pd.to_datetime(exchange_rates[\"TIME_PERIOD\"])\n",
    "inflation[\"Date\"] = pd.to_datetime(inflation[\"Date\"], format=\"%YM%m\")\n",
    "\n",
    "print(inflation.head())"
   ]
  },
  {
   "cell_type": "code",
   "execution_count": 109,
   "metadata": {},
   "outputs": [
    {
     "name": "stdout",
     "output_type": "stream",
     "text": [
      "        Date   kpi\n",
      "0 2015-03-01  99.2\n",
      "1 2015-03-02  99.2\n",
      "2 2015-03-03  99.2\n",
      "3 2015-03-04  99.2\n",
      "4 2015-03-05  99.2\n"
     ]
    }
   ],
   "source": [
    "# Create a full date range from the first to last available date in your dataset\n",
    "full_date_range = pd.date_range(start=inflation[\"Date\"].min(), end=inflation[\"Date\"].max(), freq=\"D\")\n",
    "\n",
    "# Create a DataFrame with daily dates\n",
    "inflation_daily = pd.DataFrame({\"Date\": full_date_range})\n",
    "\n",
    "# Merge with the original inflation data (left join) and forward-fill missing values\n",
    "inflation_daily = inflation_daily.merge(inflation, on=\"Date\", how=\"left\")\n",
    "inflation_daily[\"kpi\"] = inflation_daily[\"kpi\"].fillna(method=\"ffill\")  # Forward-fill missing values\n",
    "\n",
    "print(inflation_daily.head())  # Check results\n"
   ]
  },
  {
   "cell_type": "code",
   "execution_count": 110,
   "metadata": {},
   "outputs": [
    {
     "name": "stdout",
     "output_type": "stream",
     "text": [
      "        Date   kpi FREQ_x Frequency_x TENOR_x   Tenor_x  DECIMALS_x  \\\n",
      "0 2015-03-03  99.2      B    Business     10Y  10 years           3   \n",
      "1 2015-03-04  99.2      B    Business     10Y  10 years           3   \n",
      "2 2015-03-05  99.2      B    Business     10Y  10 years           3   \n",
      "3 2015-03-06  99.2      B    Business     10Y  10 years           3   \n",
      "4 2015-03-09  99.2      B    Business     10Y  10 years           3   \n",
      "\n",
      "   OBS_VALUE_x FREQ_y Frequency_y  ... Unit Multiplier COLLECTION  \\\n",
      "0        1.540      B    Business  ...           Units          C   \n",
      "1        1.546      B    Business  ...           Units          C   \n",
      "2        1.567      B    Business  ...           Units          C   \n",
      "3        1.639      B    Business  ...           Units          C   \n",
      "4        1.676      B    Business  ...           Units          C   \n",
      "\n",
      "              Collection Indicator OBS_VALUE_y       Close        High  \\\n",
      "0  ECB concertation time 14:15 CET      7.7091  616.919983  617.729980   \n",
      "1  ECB concertation time 14:15 CET      7.7441  609.250000  616.909973   \n",
      "2  ECB concertation time 14:15 CET      7.7207  616.599976  616.849976   \n",
      "3  ECB concertation time 14:15 CET      7.7917  618.309998  621.460022   \n",
      "4  ECB concertation time 14:15 CET      7.8992  614.260010  618.419983   \n",
      "\n",
      "          Low        Open  Volume log_return  \n",
      "0  613.419983  613.630005       0   0.005967  \n",
      "1  606.840027  616.890015       0  -0.012511  \n",
      "2  609.250000  609.250000       0   0.011992  \n",
      "3  616.460022  616.469971       0   0.002769  \n",
      "4  613.049988  618.299988       0  -0.006572  \n",
      "\n",
      "[5 rows x 29 columns]\n"
     ]
    }
   ],
   "source": [
    "# Compute log returns\n",
    "osebx[\"log_return\"] = np.log(osebx[\"Close\"] / osebx[\"Close\"].shift(1))\n",
    "osebx.dropna(inplace=True)  # Drop the first row where return cannot be calculated\n",
    "\n",
    "# Rename columns to \"Date\"\n",
    "zero_coupon.rename(columns={\"TIME_PERIOD\": \"Date\"}, inplace=True)\n",
    "exchange_rates.rename(columns={\"TIME_PERIOD\": \"Date\"}, inplace=True)\n",
    "\n",
    "# Merge all datasets on 'Date'\n",
    "df = inflation_daily.merge(zero_coupon, on=\"Date\", how=\"inner\")\n",
    "df = df.merge(exchange_rates, on=\"Date\", how=\"inner\")\n",
    "df = df.merge(osebx, on=\"Date\", how=\"inner\") \n",
    "\n",
    "print(df.head())  # Check final dataset"
   ]
  },
  {
   "cell_type": "code",
   "execution_count": 111,
   "metadata": {},
   "outputs": [
    {
     "name": "stdout",
     "output_type": "stream",
     "text": [
      "        Date   kpi  zero_coupon_rate  usd_nok_exchange_rate  log_return\n",
      "0 2015-03-03  99.2             1.540                 7.7091    0.005967\n",
      "1 2015-03-04  99.2             1.546                 7.7441   -0.012511\n",
      "2 2015-03-05  99.2             1.567                 7.7207    0.011992\n",
      "3 2015-03-06  99.2             1.639                 7.7917    0.002769\n",
      "4 2015-03-09  99.2             1.676                 7.8992   -0.006572\n"
     ]
    }
   ],
   "source": [
    "df = df.drop(columns=[\"Close\", \"High\", \"Low\", \"Open\", \"Volume\",\n",
    "       \"FREQ_x\", \"Frequency_x\", \"TENOR_x\", \"Tenor_x\", \"DECIMALS_x\",\n",
    "       \"FREQ_y\", \"Frequency_y\", \"BASE_CUR\", \"Base Currency\",\n",
    "       \"QUOTE_CUR\", \"Quote Currency\", \"TENOR_y\", \"Tenor_y\", \"DECIMALS_y\",\n",
    "       \"CALCULATED\", \"UNIT_MULT\", \"Unit Multiplier\", \"COLLECTION\",\n",
    "       \"Collection Indicator\"])\n",
    "\n",
    "df.rename(columns={\"OBS_VALUE_x\": \"zero_coupon_rate\"}, inplace=True)\n",
    "df.rename(columns={\"OBS_VALUE_y\": \"usd_nok_exchange_rate\"}, inplace=True)\n",
    "\n",
    "print(df.head())"
   ]
  },
  {
   "cell_type": "code",
   "execution_count": 112,
   "metadata": {},
   "outputs": [
    {
     "data": {
      "image/png": "[encoded data removed]",
      "text/plain": [
       "<Figure size 720x432 with 2 Axes>"
      ]
     },
     "metadata": {
      "needs_background": "light"
     },
     "output_type": "display_data"
    }
   ],
   "source": [
    "# Compute the correlation matrix\n",
    "\n",
    "selected_columns = [\"kpi\", \"usd_nok_exchange_rate\", \"zero_coupon_rate\"]\n",
    "corr_matrix = df[selected_columns].corr()\n",
    "\n",
    "# Visualize the correlation matrix as a heatmap\n",
    "plt.figure(figsize=(10, 6))\n",
    "sns.heatmap(corr_matrix, annot=True, cmap=\"coolwarm\", fmt=\".2f\", linewidths=0.5)\n",
    "plt.title(\"Correlation Matrix\")\n",
    "plt.show()\n"
   ]
  },
  {
   "attachments": {},
   "cell_type": "markdown",
   "metadata": {},
   "source": [
    "We define highly correlated values to have a correlation coefficient >0.9. Because all variables have a correlation coefficient below 0.9, we decide to keep all of the explanatory variables. However, we notice that especially between usd_nok_exchange_rate and kpi and between zero_coupon_rate and kpi the coefficient is close to the boundary. "
   ]
  },
  {
   "cell_type": "code",
   "execution_count": 113,
   "metadata": {},
   "outputs": [
    {
     "name": "stdout",
     "output_type": "stream",
     "text": [
      "ADF Statistic: -15.867838902915956\n",
      "p-value: 9.054142897534569e-29\n",
      "Stationary\n",
      "ADF Statistic: -0.5795020392460742\n",
      "p-value: 0.875546784604051\n",
      "Non-stationary\n",
      "ADF Statistic: -1.4185188293291202\n",
      "p-value: 0.5733664669247795\n",
      "Non-stationary\n",
      "ADF Statistic: 0.9028597537112383\n",
      "p-value: 0.9931275336262437\n",
      "Non-stationary\n"
     ]
    }
   ],
   "source": [
    "# Check for stationarity \n",
    "\n",
    "from statsmodels.tsa.stattools import adfuller\n",
    "\n",
    "def adf_test(series):\n",
    "    result = adfuller(series.dropna())\n",
    "    print(f\"ADF Statistic: {result[0]}\")\n",
    "    print(f\"p-value: {result[1]}\")\n",
    "    print(\"Stationary\" if result[1] < 0.05 else \"Non-stationary\")\n",
    "\n",
    "# Test all relevant variables\n",
    "adf_test(df[\"log_return\"])\n",
    "adf_test(df[\"zero_coupon_rate\"])  # Replace with actual column name\n",
    "adf_test(df[\"usd_nok_exchange_rate\"])  # Replace with actual column name\n",
    "adf_test(df[\"kpi\"])  # Replace with actual column name\n"
   ]
  },
  {
   "cell_type": "code",
   "execution_count": 114,
   "metadata": {},
   "outputs": [
    {
     "name": "stdout",
     "output_type": "stream",
     "text": [
      "ADF Statistic: -45.80666001847484\n",
      "p-value: 0.0\n",
      "Stationary\n",
      "ADF Statistic: -50.867422752534345\n",
      "p-value: 0.0\n",
      "Stationary\n",
      "ADF Statistic: -50.2883609437652\n",
      "p-value: 0.0\n",
      "Stationary\n"
     ]
    }
   ],
   "source": [
    "# Transform to stationary variables\n",
    "\n",
    "# Apply first differences\n",
    "df[\"d_kpi\"] = df[\"kpi\"].diff()\n",
    "df[\"d_zero_coupon_rate\"] = df[\"zero_coupon_rate\"].diff()\n",
    "df[\"d_usd_nok_exchange_rate\"] = df[\"usd_nok_exchange_rate\"].diff()\n",
    "\n",
    "# Drop NaN values created by differencing (first row)\n",
    "df = df.dropna()\n",
    "\n",
    "adf_test(df[\"d_zero_coupon_rate\"])  # Replace with actual column name\n",
    "adf_test(df[\"d_usd_nok_exchange_rate\"])  # Replace with actual column name\n",
    "adf_test(df[\"d_kpi\"])  # Replace with actual column name"
   ]
  },
  {
   "cell_type": "code",
   "execution_count": 115,
   "metadata": {},
   "outputs": [
    {
     "name": "stdout",
     "output_type": "stream",
     "text": [
      "        Date   kpi  zero_coupon_rate  usd_nok_exchange_rate  log_return  \\\n",
      "1 2015-03-04  99.2             1.546                 7.7441   -0.012511   \n",
      "2 2015-03-05  99.2             1.567                 7.7207    0.011992   \n",
      "3 2015-03-06  99.2             1.639                 7.7917    0.002769   \n",
      "4 2015-03-09  99.2             1.676                 7.8992   -0.006572   \n",
      "5 2015-03-10  99.2             1.748                 8.0457   -0.017672   \n",
      "\n",
      "   d_kpi  d_zero_coupon_rate  d_usd_nok_exchange_rate  \n",
      "1    0.0               0.006                   0.0350  \n",
      "2    0.0               0.021                  -0.0234  \n",
      "3    0.0               0.072                   0.0710  \n",
      "4    0.0               0.037                   0.1075  \n",
      "5    0.0               0.072                   0.1465  \n"
     ]
    }
   ],
   "source": [
    "print(df.head())"
   ]
  }
 ],
 "metadata": {
  "kernelspec": {
   "display_name": "base",
   "language": "python",
   "name": "python3"
  },
  "language_info": {
   "codemirror_mode": {
    "name": "ipython",
    "version": 3
   },
   "file_extension": ".py",
   "mimetype": "text/x-python",
   "name": "python",
   "nbconvert_exporter": "python",
   "pygments_lexer": "ipython3",
   "version": "3.9.12"
  },
  "vscode": {
   "interpreter": {
    "hash": "159820fe4281184c11d9b0cf5117ec85b255d1c06dfda33d2b36368cb24a50db"
   }
  }
 },
 "nbformat": 4,
 "nbformat_minor": 2
}
